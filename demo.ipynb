{
 "cells": [
  {
   "cell_type": "code",
   "execution_count": 1,
   "id": "1306a875",
   "metadata": {},
   "outputs": [],
   "source": [
    "#!jupyter nbextension enable --py widgetsnbextension --sys-prefix\n",
    "#!jupyter serverextension enable voila --sys-prefix"
   ]
  },
  {
   "cell_type": "code",
   "execution_count": 4,
   "id": "0609b451",
   "metadata": {},
   "outputs": [],
   "source": [
    "import ipywidgets as widgets\n",
    "\n",
    "from IPython.display import display, clear_output\n",
    "\n",
    "department = widgets.ToggleButtons(\n",
    "            options=['Sales', 'Operations', 'Human Resource']\n",
    "        )\n",
    "\n",
    "name = widgets.Text(placeholder='Enter your name here')\n",
    "\n",
    "date = widgets.DatePicker(description='Pick a Date')\n",
    "\n",
    "days = widgets.IntSlider(\n",
    "            value=3, \n",
    "            min=0, \n",
    "            max=10,\n",
    "            step=1,\n",
    "            style={'description_width': 'initial' }\n",
    "          )\n",
    "\n",
    "button_send = widgets.Button(\n",
    "                description='Submit Ticket',\n",
    "                tooltip='Submit Ticket',\n",
    "                style={'description_width': 'initial'}\n",
    "            )\n",
    "\n",
    "output = widgets.Output()\n",
    "\n",
    "def on_button_clicked(event):\n",
    "    with output:\n",
    "        clear_output()\n",
    "        print(\"Sent message: \")\n",
    "        print(f\"Dear IT Support, My name is {name.value} from the {department.value} department.\")\n",
    "        print(f\"I encountered an issue with my system on the {date.value}\")\n",
    "        print(f\"Kindly resolve this within {days.value} days\")\n",
    "        \n",
    "button_send.on_click(on_button_clicked)\n",
    "\n",
    "vbox_result = widgets.VBox([button_send, output])"
   ]
  },
  {
   "cell_type": "code",
   "execution_count": null,
   "id": "e33c69d0",
   "metadata": {},
   "outputs": [],
   "source": [
    "# stacked right hand side\n",
    "\n",
    "text_0 = widgets.HTML(value=\"<h1>Dear IT Support,</h1>\")\n",
    "text_1 = widgets.HTML(value=\"<h2>My name is</h2>\")\n",
    "text_2= widgets.HTML(value=\"<h2>from</h2>\")\n",
    "text_3= widgets.HTML(value=\"<h2>I encountered an issue with my system on the</h2>\")\n",
    "text_4= widgets.HTML(value=\"<h2>Kindly resolve this within</h2>\")\n",
    "text_5= widgets.HTML(value=\"<h2>days</h2>\")\n",
    "\n",
    "vbox_text = widgets.VBox([text_0, text_1, name, text_2, department, text_3, date, text_4, days, text_5, vbox_result])"
   ]
  },
  {
   "cell_type": "code",
   "execution_count": null,
   "id": "a26d7633",
   "metadata": {},
   "outputs": [],
   "source": [
    "page = widgets.HBox([vbox_text])\n",
    "display(page)"
   ]
  }
 ],
 "metadata": {
  "kernelspec": {
   "display_name": "Python 3 (ipykernel)",
   "language": "python",
   "name": "python3"
  },
  "language_info": {
   "codemirror_mode": {
    "name": "ipython",
    "version": 3
   },
   "file_extension": ".py",
   "mimetype": "text/x-python",
   "name": "python",
   "nbconvert_exporter": "python",
   "pygments_lexer": "ipython3",
   "version": "3.9.7"
  }
 },
 "nbformat": 4,
 "nbformat_minor": 5
}
