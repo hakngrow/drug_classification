{
 "cells": [
  {
   "cell_type": "code",
   "execution_count": 3,
   "metadata": {},
   "outputs": [
    {
     "name": "stderr",
     "output_type": "stream",
     "text": [
      "Enabling notebook extension jupyter-js-widgets/extension...\n",
      "      - Validating: ok\n",
      "Enabling: voila\n",
      "- Writing config: C:\\Users\\howie.ng\\Documents\\projects\\data_science\\drug_classification\\venv\\etc\\jupyter\n",
      "    - Validating...\n",
      "      voila 0.3.0 ok\n"
     ]
    }
   ],
   "source": [
    "#!jupyter nbextension enable --py widgetsnbextension --sys-prefix\n",
    "#!jupyter serverextension enable voila --sys-prefix"
   ]
  },
  {
   "cell_type": "code",
   "execution_count": null,
   "metadata": {},
   "outputs": [],
   "source": [
    "import requests\n",
    "from ipywidgets import Label, BoundedFloatText, BoundedIntText, Dropdown, Button, Output, VBox\n",
    "\n",
    "from IPython.display import display, clear_output\n",
    "\n",
    "prescribe_label = Label('Drug prescription prediction for age, gender, bp, cholesterol and \"Na to K\"')\n",
    "\n",
    "age_text = BoundedIntText(min=16, max=100, value=47, description=\"Age:\", disabled=False)\n",
    "gender_dropdown = Dropdown(options=['F', 'M'], description='Gender:', disabled=False)\n",
    "bp_dropdown = Dropdown(options=['HIGH', 'LOW', 'NORMAL'], value=\"LOW\", description='BP:', disabled=False)\n",
    "cholesterol_dropdown = Dropdown(options=['HIGH', 'NORMAL'], description='Cholesterol:', disabled=False)\n",
    "na_to_k_text = BoundedFloatText(min=0.0, max=50.0, value=14, description=\"Na to K\", disabled=False)\n",
    "\n",
    "prescribe_button = Button(description=\"Presribe\")\n",
    "prescribe_output = Output()\n",
    "\n",
    "\n",
    "# Button click event handlers ...\n",
    "def prescribe_button_on_click(event):\n",
    "\n",
    "    clear_output()\n",
    "    \n",
    "    request_url = f\"https://drug-classification.herokuapp.com/drug?Age={age_text.value}&Sex={gender_dropdown.value}&BP={bp_dropdown.value}&Cholesterol={cholesterol_dropdown.value}&Na_to_K={na_to_k_text.value}\"\n",
    "    \n",
    "    response = requests.get(request_url)\n",
    "    recommended_drug = response.json()[\"recommended_drug\"]\n",
    "\n",
    "    prescribe_output.clear_output()\n",
    "    with prescribe_output:\n",
    "        print(f\"The recommended drug is {recommended_drug}\")\n",
    "        \n",
    "prescribe_button.on_click(prescribe_button_on_click)\n",
    "\n",
    "vbox_prescribe = VBox([prescribe_label, age_text, gender_dropdown, bp_dropdown, cholesterol_dropdown, na_to_k_text, prescribe_button, prescribe_output])\n",
    "\n",
    "display(vbox_prescribe)"
   ]
  }
 ],
 "metadata": {
  "kernelspec": {
   "display_name": "Python 3 (ipykernel)",
   "language": "python",
   "name": "python3"
  },
  "language_info": {
   "codemirror_mode": {
    "name": "ipython",
    "version": 3
   },
   "file_extension": ".py",
   "mimetype": "text/x-python",
   "name": "python",
   "nbconvert_exporter": "python",
   "pygments_lexer": "ipython3",
   "version": "3.9.7"
  }
 },
 "nbformat": 4,
 "nbformat_minor": 2
}
