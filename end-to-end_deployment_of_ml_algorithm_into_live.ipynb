{
 "cells": [
  {
   "cell_type": "markdown",
   "id": "cf4b594e",
   "metadata": {},
   "source": [
    "### A End-to-End Deployment of a Machine Learning Algorithm into a Live Production Environment\n",
    "\n",
    "In this tutorial, we explore how to deploy a machine learning algorithm into a live production environment so that it could be “consumed” in a platform-agnostic way.  We'll start by using Jupyter Notebooks to develop a machine learning algorithm and progress to make it publicly available as a web application using Voila, GitHub and mybinder.\n",
    "\n",
    "#### 1. Develop a Machine Learning Algorithm\n",
    "\n",
    "Our first step is to develop the machine learning algorithm that we want to deploy. In the real world, this step involves many weeks or months of development time and lots of iteration across the stages of the data science pipeline.  For this tutorial, we will develop a basic ML algorithm as the main purpose of this tutorial is to illustrate how to deploy an algorithm for use by “consumers”.\n",
    "\n",
    "Create a new directory and name it `drug_classification`.  This will be our project home directory.\n",
    "\n",
    "We will use a drug classification [dataset](https://www.kaggle.com/prathamtripathi/drug-classification) from Kraggle. Having a [CC0: Public Domain](https://creativecommons.org/publicdomain/zero/1.0/) means that it has no copyright and that it may be used in our tutorial with no restrictions. \n",
    "\n",
    "Click on `Download` button and save the `archive.zip` in the project home directory created above.  Extract the dataset `drug200.csv` within the `zip` file, into the home directory.\n",
    "\n",
    "![Download Drug Classification Dataset](./images/download.jpg)\n",
    "\n",
    "\n",
    "The Python code to develop a predictive machine learning algorithm to classify drug prescriptions given a range of patient parameters is as follows: "
   ]
  },
  {
   "cell_type": "code",
   "execution_count": 6,
   "id": "9b3a775c",
   "metadata": {},
   "outputs": [
    {
     "name": "stdout",
     "output_type": "stream",
     "text": [
      "0.99 0.012247448713915901\n"
     ]
    }
   ],
   "source": [
    "import pandas as pd\n",
    "\n",
    "from sklearn.tree import DecisionTreeClassifier\n",
    "from sklearn.preprocessing import LabelEncoder\n",
    "from sklearn.model_selection import KFold, cross_val_score\n",
    "\n",
    "df_drug = pd.read_csv(\"./drug200.csv\")\n",
    "\n",
    "# Label encode categorical features\n",
    "label_encoder = LabelEncoder()\n",
    "\n",
    "categorical_features = [feature for feature in df_drug.columns if df_drug[feature].dtypes == 'O']\n",
    "for feature in categorical_features:\n",
    "    df_drug[feature]=label_encoder.fit_transform(df_drug[feature])\n",
    "\n",
    "# Drop target feature\n",
    "X = df_drug.drop(\"Drug\", axis=1)\n",
    "y = df_drug[\"Drug\"]\n",
    "\n",
    "model = DecisionTreeClassifier(criterion=\"entropy\")\n",
    "model.fit(X, y)\n",
    "\n",
    "kfold = KFold(random_state=42, shuffle=True)\n",
    "cv_results = cross_val_score(model, X, y, cv=kfold, scoring=\"accuracy\")\n",
    "\n",
    "print(cv_results.mean(), cv_results.std())"
   ]
  },
  {
   "cell_type": "markdown",
   "id": "818a8cb9",
   "metadata": {},
   "source": [
    "Here, we have trained a machine learning algorithm to predict drug presriptions and that cross validation (i.e. folding the data) has been used to evaluate the model accuracy at 99%.\n",
    "\n",
    "In a production environment, we will not want to retrain our model every time a user wanted to predict a drug presription, hence our next step is to preserve the state of our trained model using [`pickle`](https://docs.python.org/3/library/pickle.html#:~:text=%E2%80%9CPickling%E2%80%9D%20is%20the%20process%20whereby,back%20into%20an%20object%20hierarchy.)..."
   ]
  },
  {
   "cell_type": "code",
   "execution_count": 7,
   "id": "94844a48",
   "metadata": {},
   "outputs": [],
   "source": [
    "import pickle\n",
    "\n",
    "pickle_file = open('model.pkl', 'ab')\n",
    "pickle.dump(model, pickle_file)                     \n",
    "pickle_file.close()"
   ]
  },
  {
   "cell_type": "markdown",
   "id": "9445bcdb",
   "metadata": {},
   "source": [
    "Now whenever we need to use the trained model, we simply need to reload its state from the `model.pkl` file rather than re-executing the training step.\n",
    "\n",
    "#### 2. Make an Individual Prediction from the Trained Model\n",
    "\n",
    "We will assume that consumers of the machine learning algorithm want to make predictions for individual patients rather than a batch of patients.\n",
    "\n",
    "Those consumers wish to communicate with the algorithm using text-like values for the parameters (i.e. blood pressure is “NORMAL” or “HIGH” rather than their label encoded equivalents of 0 and 1).\n",
    "\n",
    "Therefore, we will start by reviewing the values for all of the label encoded categorical features used as an input to the algorithm, as well as, the target variable itself."
   ]
  },
  {
   "cell_type": "code",
   "execution_count": 10,
   "id": "6ed9e77b",
   "metadata": {},
   "outputs": [
    {
     "name": "stdout",
     "output_type": "stream",
     "text": [
      "Sex ['F', 'M'] [0, 1] \n",
      "\n",
      "BP ['HIGH', 'LOW', 'NORMAL'] [0, 1, 2] \n",
      "\n",
      "Cholesterol ['HIGH', 'NORMAL'] [0, 1] \n",
      "\n",
      "Drug ['DrugY', 'drugC', 'drugX', 'drugA', 'drugB'] [0, 3, 4, 1, 2] \n",
      "\n"
     ]
    }
   ],
   "source": [
    "df_drug = pd.read_csv(\"drug200.csv\")\n",
    "\n",
    "label_encoder = LabelEncoder()\n",
    "\n",
    "categorical_features = [feature for feature in df_drug.columns if df_drug[feature].dtypes == 'O']\n",
    "for feature in categorical_features:\n",
    "    print(feature, list(df_drug[feature].unique()), list(label_encoder.fit_transform(df_drug[feature].unique())), \"\\n\")"
   ]
  },
  {
   "cell_type": "markdown",
   "id": "ac4a6dee",
   "metadata": {},
   "source": [
    "Above is a list of each categorical feature with the unique values that appear in the data and the corresponding numerical values as transformed by the `LabelEncoder()`.\n",
    "\n",
    "With this, we can provide a set of dictionaries that map the text-like values (e.g. “HIGH”, “LOW” etc.) into their encoded equivalents and then develop a simple function to make an individual prediction."
   ]
  },
  {
   "cell_type": "code",
   "execution_count": 12,
   "id": "b6154c13",
   "metadata": {},
   "outputs": [],
   "source": [
    "gender_map = {\"F\": 0, \"M\": 1}\n",
    "bp_map = {\"HIGH\": 0, \"LOW\": 1, \"NORMAL\": 2}\n",
    "cholestol_map = {\"HIGH\": 0, \"NORMAL\": 1}\n",
    "drug_map = {0: \"DrugY\", 3: \"drugC\", 4: \"drugX\", 1: \"drugA\", 2: \"drugB\"}\n",
    "\n",
    "def predict_drug(Age, \n",
    "                 Sex, \n",
    "                 BP, \n",
    "                 Cholesterol, \n",
    "                 Na_to_K):\n",
    "\n",
    "    # 1. Read the machine learning model from its pickled state ...\n",
    "    pickle_file = open('model.pkl', 'rb')     \n",
    "    model = pickle.load(pickle_file)\n",
    "    \n",
    "    # 2. Transform the \"raw\" parameters passed into the function to the encoded numerical values using the maps dictionaries\n",
    "    Sex = gender_map[Sex]\n",
    "    BP = bp_map[BP]\n",
    "    Cholesterol = cholestol_map[Cholesterol]\n",
    "\n",
    "    # 3. Make an individual prediction for this set of data\n",
    "    y_predict = model.predict([[Age, Sex, BP, Cholesterol, Na_to_K]])[0]\n",
    "\n",
    "    # 4. Return the \"raw\" version of the prediction i.e. the actual name of the drug rather than the numerical encoded version\n",
    "    return drug_map[y_predict] "
   ]
  },
  {
   "cell_type": "markdown",
   "id": "cfe8c8cb",
   "metadata": {},
   "source": [
    "We can invoke the function to make some predictions based on values from the original dataset. By comparing the values returned  against the original dataset, we can verify that our implementation is correct."
   ]
  },
  {
   "cell_type": "code",
   "execution_count": 16,
   "id": "f4d6cd73",
   "metadata": {},
   "outputs": [
    {
     "name": "stderr",
     "output_type": "stream",
     "text": [
      "C:\\Users\\howie.ng\\Documents\\projects\\data_science\\drug_classification\\venv\\lib\\site-packages\\sklearn\\base.py:445: UserWarning: X does not have valid feature names, but DecisionTreeClassifier was fitted with feature names\n",
      "  warnings.warn(\n"
     ]
    },
    {
     "data": {
      "text/plain": [
       "'drugC'"
      ]
     },
     "execution_count": 16,
     "metadata": {},
     "output_type": "execute_result"
    }
   ],
   "source": [
    "predict_drug(47, \"F\", \"LOW\",  \"HIGH\", 14)"
   ]
  },
  {
   "cell_type": "code",
   "execution_count": 17,
   "id": "ea1db927",
   "metadata": {
    "scrolled": true
   },
   "outputs": [
    {
     "name": "stderr",
     "output_type": "stream",
     "text": [
      "C:\\Users\\howie.ng\\Documents\\projects\\data_science\\drug_classification\\venv\\lib\\site-packages\\sklearn\\base.py:445: UserWarning: X does not have valid feature names, but DecisionTreeClassifier was fitted with feature names\n",
      "  warnings.warn(\n"
     ]
    },
    {
     "data": {
      "text/plain": [
       "'DrugY'"
      ]
     },
     "execution_count": 17,
     "metadata": {},
     "output_type": "execute_result"
    }
   ],
   "source": [
    "predict_drug(60, \"F\", \"LOW\",  \"HIGH\", 20)"
   ]
  },
  {
   "cell_type": "markdown",
   "id": "22672bd1",
   "metadata": {},
   "source": [
    "> Note that our `predict_drug` function does not re-train the model, rather it 'revives' its saved state by `pickle` from the `model.pkl` file and we can verify that the predictions for drug recommendation are correct."
   ]
  },
  {
   "cell_type": "markdown",
   "id": "817383e5",
   "metadata": {},
   "source": [
    "#### 3. Develop a Web Service Wrapper\n",
    "\n",
    "A web service is a “wrapper” that accepts requests from clients/consumers using HTTP GET and HTTP PUT methods, invokes the Python code and returns the result as an HTML response.\n",
    "\n",
    "Clients and consumers only need to be able to formulate HTTP requests and will be able to utilize the web service (in our case, the drug classification prediction service).  Exposing the service this way make it platform-agnostic as nearly all programming languages and environments will have a way of handling a HTTP request and response.\n",
    "\n",
    "In the Python, there are several different approaches available. In this tutorial, we will use [`flask`](https://flask.palletsprojects.com/en/2.0.x/) to construct our web service wrapper.\n",
    "\n",
    "Create a new file `service.py` in the project directory.  \n",
    "\n",
    "Enter the following code for the web service wrapper in `service.py`:"
   ]
  },
  {
   "cell_type": "code",
   "execution_count": null,
   "id": "327b4b7e",
   "metadata": {},
   "outputs": [],
   "source": [
    "from flask import Flask, request, jsonify\n",
    "\n",
    "import pickle\n",
    "\n",
    "app = Flask(__name__)\n",
    "\n",
    "gender_map = {\"F\": 0, \"M\": 1}\n",
    "bp_map = {\"HIGH\": 0, \"LOW\": 1, \"NORMAL\": 2}\n",
    "cholesterol_map = {\"HIGH\": 0, \"NORMAL\": 1}\n",
    "drug_map = {0: \"DrugY\", 3: \"drugC\", 4: \"drugX\", 1: \"drugA\", 2: \"drugB\"}\n",
    "\n",
    "def predict_drug(Age, \n",
    "                 Sex, \n",
    "                 BP, \n",
    "                 Cholesterol, \n",
    "                 Na_to_K):\n",
    "\n",
    "    # 1. Read the machine learning model from its pickled state ...\n",
    "    pickle_file = open('model.pkl', 'rb')     \n",
    "    model = pickle.load(pickle_file)\n",
    "    \n",
    "    # 2. Transform the \"raw\" parameters passed into the function to the encoded numerical values using the maps dictionaries\n",
    "    Sex = gender_map[Sex]\n",
    "    BP = bp_map[BP]\n",
    "    Cholesterol = cholestol_map[Cholesterol]\n",
    "\n",
    "    # 3. Make an individual prediction for this set of data\n",
    "    y_predict = model.predict([[Age, Sex, BP, Cholesterol, Na_to_K]])[0]\n",
    "\n",
    "    # 4. Return the \"raw\" version of the prediction i.e. the actual name of the drug rather than the numerical encoded version\n",
    "    return drug_map[y_predict] \n",
    "\n",
    "@app.route(\"/\")\n",
    "def hello():\n",
    "    return \"A web service for accessing a machine learning model to make drug recommendations.\"\n",
    "\n",
    "@app.route('/drug', methods=['GET'])\n",
    "def api_all():\n",
    "\n",
    "    Age = int(request.args['Age'])\n",
    "    Sex = request.args['Sex']\n",
    "    BP = request.args['BP']\n",
    "    Cholesterol = request.args['Cholesterol']\n",
    "    Na_to_K = float(request.args['Na_to_K'])\n",
    "\n",
    "    drug = predict_drug(Age, Sex, BP, Cholesterol, Na_to_K)\n",
    "\n",
    "    return(jsonify(recommended_drug = drug))\n",
    "\n",
    "app.run()"
   ]
  },
  {
   "cell_type": "markdown",
   "id": "0032b9ea",
   "metadata": {},
   "source": [
    "The first part of our service wrapper consist of the label mappings and the `predict_drug` function we have previously defined.\n",
    "\n",
    "The next part consist of app routings, which is to map a specific URL with the associated function.  In our wrapper, we define 2 app routes: `/` and `/drug`.  To learn more about app routing and how it works in `Flask`, click [here](https://dev.to/emma_donery/python-flask-app-routing-3l57).\n",
    "\n",
    "In your terminal (from the project directory), run the service wrapper script using the command: `python service.py`.\n",
    "\n",
    "![Flask running in terminal](./images/service.jpg)\n",
    "\n",
    "This invokes the `Flask` application and we can proceed to test our web service using one of the following methods:\n",
    "\n",
    "- Open a web browser and enter: http://127.0.0.1:5000/drug?Age=60&Sex=F&BP=LOW&Cholesterol=HIGH&Na_to_K=20\n",
    "- Open a terminal and enter: `curl -X GET` \"http://127.0.0.1:5000/drug?Age=60&Sex=F&BP=LOW&Cholesterol=HIGH&Na_to_K=20\"\n",
    "\n",
    "Both are ways of making a HTTP GET request to our drug recommendation service wrapper.  Using the `/drug` app route, will invoke the `api_all` function in our wrapper.  We then pass the values of the parameters via a query string i.e. `Age=60&Sex=F&BP=LOW&Cholesterol=HIGH&Na_to_K=20` \n",
    "\n",
    "Using the browser method, you will find that our wrapper returns the drug recommendation in a JSON object.\n",
    "\n",
    "![Drug recommendation returned as JSON object](./images/browser.jpg)\n",
    "\n",
    "#### 4. Deploy the Web Service to Cloud Platform\n",
    "\n",
    "Now we have a predictive machine learning model that can predict drug prescriptions with 99% accuracy, a helper function to make individual predictions and a web service wrapper that enables these components to be called from a browser or command line.\n",
    "\n",
    "However, all of these are being executed in the development environment. The next stage is to deploy everything into the cloud so that clients can “consume” the web service over the public Internet.\n",
    "\n",
    "There are many different public services available for web app deployment including [Google Cloud Platform](https://cloud.google.com/gcp/), [Amazon Web Services](https://aws.amazon.com/), [Microsoft Azure](https://azure.microsoft.com/en-us/).  For this tutorial, I've chosen to deploy on [Heroku](https://www.heroku.com/), as it didn't require my credit card details.  For an illustration of how to deploy a Flask app on Heroku, please click [here](https://github.com/hakngrow/heroku-boilerplate).\n",
    "\n",
    "After deploying the Flask app, you'll be able to access the drug prediction web service via a public Heroku subdomain like https://drug-classification.herokuapp.com/drug?Age=60&Sex=F&BP=LOW&Cholesterol=HIGH&Na_to_K=20 \n",
    "\n",
    "#### 5. Build a Client Application to Consume the Deployed Web Service\n",
    "\n",
    "Any programming language or environment that can invoke HTTP requests can call the deployed web service with just a few lines of code. Non-Python environments like C#, JavaScript etc. can all be used but I will finish off this project by writing a Python client using `ipywidgets`.\n",
    "\n",
    "`ipywidgets` is a module that lets us create interactive widgets in Jupyter notebooks. For example, buttons, text boxes, sliders, progress bars, and more. To learn more about it, click [here](https://ipywidgets.readthedocs.io/en/latest/#).\n",
    "\n",
    "Before we can use widgets in notebooks, we need to install the following 3 modules:\n",
    "```\n",
    "pip install widgetsnbextension \n",
    "pip install ipywidgets \n",
    "pip install voila\n",
    "```\n",
    "\n",
    "In the project directory, create a new file named `client.ipynb`. \n",
    "\n",
    "Next, we need to enable the widgets and `voila` extensions to be properly displayed on the notebook. Insert a cell in the notebook and enter the following:\n",
    "```\n",
    "!jupyter nbextension enable --py widgetsnbextension --sys-prefix\n",
    "!jupyter serverextension enable voila --sys-prefix\n",
    "```\n",
    "\n",
    "![Enable extensions in notebook](./images/extensions.jpg)\n",
    "\n",
    "After the extensions have been enabled, comment out the commands so that it will not be executed by our web app.\n",
    "\n",
    "![Commands to enable extensions commented out](./images/extensions-commented.jpg)\n",
    "\n",
    "Next, insert another cell below and enter the following code:"
   ]
  },
  {
   "cell_type": "code",
   "execution_count": 4,
   "id": "249a8bc0",
   "metadata": {
    "scrolled": true
   },
   "outputs": [],
   "source": [
    "import requests\n",
    "\n",
    "from ipywidgets import Label, BoundedFloatText, BoundedIntText, Dropdown, Button, Output, VBox\n",
    "\n",
    "from IPython.display import display, clear_output\n",
    "\n",
    "prescribe_label = Label('Drug prescription prediction for age, gender, bp, cholesterol and \"Na to K\"')\n",
    "age_text = BoundedIntText(min=16, max=100, value=47, description=\"Age:\", disabled=False)\n",
    "gender_dropdown = Dropdown(options=['F', 'M'], description='Gender:', disabled=False)\n",
    "bp_dropdown = Dropdown(options=['HIGH', 'LOW', 'NORMAL'], value=\"LOW\", description='BP:', disabled=False)\n",
    "cholesterol_dropdown = Dropdown(options=['HIGH', 'NORMAL'], description='Cholesterol:', disabled=False)\n",
    "na_to_k_text = BoundedFloatText(min=0.0, max=50.0, value=14, description=\"Na to K\", disabled=False)\n",
    "prescribe_button = Button(description=\"Presribe\")\n",
    "prescribe_output = Output()\n",
    "\n",
    "# Button click event handlers ...\n",
    "def prescribe_button_on_click(b):\n",
    "\n",
    "    clear_output()\n",
    "    \n",
    "    # Remember to change the base URL to that of your platform provider\n",
    "    # My web service was deployed on Heroku, hence the subdomain drug-classification.herokuapp.com\n",
    "    request_url = f\"https://drug-classification.herokuapp.com/drug?Age={age_text.value}&Sex={gender_dropdown.value}&BP={bp_dropdown.value}&Cholesterol={cholesterol_dropdown.value}&Na_to_K={na_to_k_text.value}\"\n",
    "    \n",
    "    response = requests.get(request_url)\n",
    "    recommended_drug = response.json()[\"recommended_drug\"]\n",
    "\n",
    "    prescribe_output.clear_output()\n",
    "    with prescribe_output:\n",
    "        print(f\"The recommended drug is {recommended_drug}\")\n",
    "        \n",
    "prescribe_button.on_click(prescribe_button_on_click)\n",
    "\n",
    "vbox_prescribe = VBox([prescribe_label, age_text, gender_dropdown, bp_dropdown, cholesterol_dropdown, na_to_k_text, prescribe_button, prescribe_output])\n",
    "\n",
    "display(vbox_prescribe)\n"
   ]
  },
  {
   "cell_type": "markdown",
   "id": "ef26d8c6",
   "metadata": {},
   "source": [
    "The above code creates all the UI widgets to collect the parameters required to execute our drug recommendation i.e. text box for age, dropdown for gender, etc.\n",
    "\n",
    "It also defines the event handler of the `Prescribe` button such that when clicked:\n",
    "- Builds a HTTP request URL that consist of the address of our web service and a query string for the parameters\n",
    "- Sends a HTTP GET request to our web service and waits for a response\n",
    "- Receives the HTTP reponse and displays a formatted message (i.e. the recommendation)\n",
    "\n",
    "Having installed the `voila` package ealier, you should see the `voila` button on the notebook interface.\n",
    "\n",
    "![voila Button](./images/voila.jpg)\n",
    "\n",
    "There are two ways to invoke the notebook as a web application, either press the `voila` button or execute the notebook from the terminal using the command: `voila client.ipynb`.  When any of them is executed, a new tab with our web app will appear on your default web browser.\n",
    "\n",
    "![The Web Application](./images/webapp.jpg)\n",
    "\n",
    "If you click “Prescribe” button with the default values, the recommendation should be for `drugC`.\n",
    "\n",
    "Change the `Age` to 60 and `Na to K` to 20 and `DrugY` should be prescribed. Set the `Age` back to 47, `Na to K` back to 14 and change `BP` to “HIGH” and `drugA` should be prescribed.\n",
    "\n",
    "These simple tests prove that the web service using a decision tree based predictive machine learning algorithm is fully deployed to the cloud, can be called by any development environment capable of making a HTTP GET request and is fully working end-to-end.\n",
    "\n",
    "#### 5. Host the Web App on Binder\n",
    "\n",
    "We want the notebook to be displayed as a web app that is hosted on [Binder](http://mybinder.org/), which anyone can access with a URL.  Go to [Binder](http://mybinder.org) and choose the following configurations for `client.ipynb`.\n",
    "\n",
    "![My Binder Setup](./images/binder.jpg)\n",
    "\n",
    "- 5.1 Select the `GitHub` platform\n",
    "- 5.2 Enter the URL of your GitHub repo\n",
    "- 5.3 Enter the name of the notebook after `/voila/render/`, for our case `/voila/render/client.ipynb`\n",
    "- 5.4 Select the `URL` option\n",
    "- 5.5 Click the `Launch` button.\n",
    "\n",
    "\n",
    "It will take a while to build and launch the web app.  Once it has completed, a new tab in your default browser will launch with the web app.\n",
    "\n",
    "[![Binder](https://mybinder.org/badge_logo.svg)](https://mybinder.org/v2/gh/hakngrow/drug_classification/HEAD?urlpath=%2Fvoila%2Frender%2Fclient.ipynb)\n",
    "\n",
    "Copy the text for displaying the Binder badge and paste it on the README file. Your web app will be shown when the badge is clicked on the Git repo.\n",
    "\n",
    "\n",
    "\n"
   ]
  }
 ],
 "metadata": {
  "kernelspec": {
   "display_name": "Python 3 (ipykernel)",
   "language": "python",
   "name": "python3"
  },
  "language_info": {
   "codemirror_mode": {
    "name": "ipython",
    "version": 3
   },
   "file_extension": ".py",
   "mimetype": "text/x-python",
   "name": "python",
   "nbconvert_exporter": "python",
   "pygments_lexer": "ipython3",
   "version": "3.9.7"
  }
 },
 "nbformat": 4,
 "nbformat_minor": 5
}
